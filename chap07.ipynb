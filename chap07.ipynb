{
 "cells": [
  {
   "cell_type": "markdown",
   "metadata": {},
   "source": [
    "Подключу необходимые библиотеки и файлы"
   ]
  },
  {
   "cell_type": "code",
   "execution_count": 1,
   "metadata": {},
   "outputs": [],
   "source": [
    "import numpy as np\n",
    "PI2 = 2 * np.pi"
   ]
  },
  {
   "cell_type": "markdown",
   "metadata": {
    "id": "LGCXRqUC50nD"
   },
   "source": [
    "### Упражнение 7.1\r\n",
    "В блокноте для этой главы, chap07.ipynb, представлены дополнительные примеры и пояснения. Прочитать блокнот и запустите код."
   ]
  },
  {
   "cell_type": "markdown",
   "metadata": {
    "id": "CYn5XHkG50nR"
   },
   "source": [
    "### Упражнение 7.2\r\n",
    "Реализуйте алгоритм Быстрого Преобразования Фурье (БПФ), согласно лемме Дэниелсона-Ланцоша - рекурсивный алгоритм ДПФ. Подробности преобразований, алгоритм и самма лемма представлены в методичке."
   ]
  },
  {
   "cell_type": "markdown",
   "metadata": {},
   "source": [
    "### Решение\n",
    "Начну реализовывать алгоритм, пользуясь подсказками из книги"
   ]
  },
  {
   "cell_type": "code",
   "execution_count": 2,
   "metadata": {
    "collapsed": false,
    "id": "cLg7MdIJ50nS",
    "jupyter": {
     "outputs_hidden": false
    },
    "outputId": "12e0e8bd-f155-467e-c72c-1477ab5b7405"
   },
   "outputs": [
    {
     "name": "stdout",
     "output_type": "stream",
     "text": [
      "[ 0. +0.j  -0.5-1.3j  0.2+0.j  -0.5+1.3j]\n"
     ]
    }
   ],
   "source": [
    "ys = [-0.2, 0.6, 0.3, -0.7]\n",
    "hs = np.fft.fft(ys)\n",
    "print(hs)"
   ]
  },
  {
   "cell_type": "code",
   "execution_count": 3,
   "metadata": {
    "collapsed": false,
    "id": "sBl_wX5k50nU",
    "jupyter": {
     "outputs_hidden": false
    }
   },
   "outputs": [
    {
     "data": {
      "text/plain": [
       "array([ 0. +0.00000000e+00j, -0.5-1.30000000e+00j,  0.2+2.57175828e-16j,\n",
       "       -0.5+1.30000000e+00j])"
      ]
     },
     "execution_count": 3,
     "metadata": {},
     "output_type": "execute_result"
    }
   ],
   "source": [
    "def dft(ys):\n",
    "    N = len(ys)\n",
    "    ts = np.arange(N) / N\n",
    "    freqs = np.arange(N)\n",
    "    args = np.outer(ts, freqs)\n",
    "    M = np.exp(1j * PI2 * args)\n",
    "    amps = M.conj().transpose().dot(ys)\n",
    "    return amps\n",
    "\n",
    "dft(ys)"
   ]
  },
  {
   "cell_type": "markdown",
   "metadata": {
    "id": "cJ6ce4u850nU"
   },
   "source": [
    "Разделю алгоритм на четные и нечетные элементы"
   ]
  },
  {
   "cell_type": "code",
   "execution_count": 4,
   "metadata": {},
   "outputs": [
    {
     "data": {
      "text/plain": [
       "([-0.2, 0.3], [0.6, -0.7])"
      ]
     },
     "execution_count": 4,
     "metadata": {},
     "output_type": "execute_result"
    }
   ],
   "source": [
    "ys[::2] , ys[1::2]"
   ]
  },
  {
   "cell_type": "markdown",
   "metadata": {},
   "source": [
    "Сначала реализую нерекурсивный метод"
   ]
  },
  {
   "cell_type": "code",
   "execution_count": 5,
   "metadata": {
    "collapsed": false,
    "id": "l4ayNjp350nU",
    "jupyter": {
     "outputs_hidden": false
    },
    "outputId": "1e516bbd-bc5c-42e5-a596-de28e26520db"
   },
   "outputs": [
    {
     "data": {
      "text/plain": [
       "array([ 0. +0.0000000e+00j, -0.5-1.3000000e+00j,  0.2+1.2246468e-17j,\n",
       "       -0.5+1.3000000e+00j])"
      ]
     },
     "execution_count": 5,
     "metadata": {},
     "output_type": "execute_result"
    }
   ],
   "source": [
    "def my_fft(ys):\n",
    "  He = dft(ys[::2])\n",
    "  Ho = dft(ys[1::2])\n",
    "  ns = np.arange(len(ys))\n",
    "  W = np.exp(-1j * PI2 * ns / len(ys))\n",
    "  return np.tile(He, 2) + W * np.tile(Ho, 2)\n",
    "\n",
    "my_fft(ys)"
   ]
  },
  {
   "cell_type": "markdown",
   "metadata": {},
   "source": [
    "Теперь полностью, с рекурсией"
   ]
  },
  {
   "cell_type": "code",
   "execution_count": 6,
   "metadata": {},
   "outputs": [],
   "source": [
    "def my_fft(ys):\n",
    "  if len(ys) == 1:\n",
    "    return ys\n",
    "  He = my_fft(ys[::2])\n",
    "  Ho = my_fft(ys[1::2])\n",
    "  ns = np.arange(len(ys))\n",
    "  W = np.exp(-1j * PI2 * ns / len(ys))\n",
    "  return np.tile(He, 2) + W * np.tile(Ho, 2)"
   ]
  },
  {
   "cell_type": "code",
   "execution_count": 7,
   "metadata": {},
   "outputs": [
    {
     "data": {
      "text/plain": [
       "array([ 0. +0.0000000e+00j, -0.5-1.3000000e+00j,  0.2+1.2246468e-17j,\n",
       "       -0.5+1.3000000e+00j])"
      ]
     },
     "execution_count": 7,
     "metadata": {},
     "output_type": "execute_result"
    }
   ],
   "source": [
    "my_fft(ys)"
   ]
  }
 ],
 "metadata": {
  "colab": {
   "provenance": []
  },
  "kernelspec": {
   "display_name": "Python 3 (ipykernel)",
   "language": "python",
   "name": "python3"
  },
  "language_info": {
   "codemirror_mode": {
    "name": "ipython",
    "version": 3
   },
   "file_extension": ".py",
   "mimetype": "text/x-python",
   "name": "python",
   "nbconvert_exporter": "python",
   "pygments_lexer": "ipython3",
   "version": "3.11.7"
  },
  "widgets": {
   "application/vnd.jupyter.widget-state+json": {
    "state": {},
    "version_major": 2,
    "version_minor": 0
   }
  }
 },
 "nbformat": 4,
 "nbformat_minor": 4
}
